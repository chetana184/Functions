{
 "cells": [
  {
   "cell_type": "markdown",
   "id": "777a6afd-4377-450f-991f-e84db84e3be6",
   "metadata": {},
   "source": [
    "# Find the Maximum of Three Numbers"
   ]
  },
  {
   "cell_type": "code",
   "execution_count": 2,
   "id": "8fd76ab1-adf8-403c-ac11-00802ceba705",
   "metadata": {},
   "outputs": [
    {
     "name": "stdout",
     "output_type": "stream",
     "text": [
      "Max Value: 28\n"
     ]
    }
   ],
   "source": [
    "# Function to find the largest among three numbers\n",
    "def find_max(a, b, c):\n",
    "    return max(a, b, c)\n",
    "# Example usage\n",
    "print('Max Value:', find_max(12,28,10))"
   ]
  },
  {
   "cell_type": "markdown",
   "id": "2485cf77-3d7d-4d5e-a59f-58c4a4668d14",
   "metadata": {},
   "source": [
    "# Grade System Using if-else"
   ]
  },
  {
   "cell_type": "code",
   "execution_count": 16,
   "id": "a4c6c86e-41af-47d2-89f9-242a1976eaaa",
   "metadata": {},
   "outputs": [
    {
     "name": "stdout",
     "output_type": "stream",
     "text": [
      "Distinction\n"
     ]
    }
   ],
   "source": [
    "# Function to return grade based on score\n",
    "def check_grade(score):\n",
    "    if score >= 75:\n",
    "        return 'Distinction'\n",
    "    elif score >= 60:\n",
    "        return 'First Class'\n",
    "    else:\n",
    "        return 'Need Improvement'\n",
    "# Example usage\n",
    "print(check_grade(85))"
   ]
  },
  {
   "cell_type": "markdown",
   "id": "1313163e-c0a0-4dca-8354-cd7a0c7c45fd",
   "metadata": {},
   "source": [
    "# Count Even and Odd Numbers Using *args"
   ]
  },
  {
   "cell_type": "code",
   "execution_count": 7,
   "id": "9ef084c6-d761-4d45-b9ed-5f35d121821f",
   "metadata": {},
   "outputs": [
    {
     "name": "stdout",
     "output_type": "stream",
     "text": [
      "{'Even': 2, 'Odd': 3}\n"
     ]
    }
   ],
   "source": [
    "# Function to count even and odd numbers from input\n",
    "def count_even_odd(*nums):\n",
    "    even = [x for x in nums if x % 2 == 0]\n",
    "    odd = [x for x in nums if x % 2 != 0]\n",
    "    return {'Even': len(even), 'Odd': len(odd)}\n",
    "# Example usage\n",
    "print(count_even_odd(10,15,22,3,5))"
   ]
  },
  {
   "cell_type": "markdown",
   "id": "adc0f94c-3c9f-4ec6-b7f6-eb8720c402c2",
   "metadata": {},
   "source": [
    "# Clean List Data (Remove Empty and Format Text)"
   ]
  },
  {
   "cell_type": "code",
   "execution_count": 9,
   "id": "9829663d-1fa3-41c3-835e-45fbe93edaec",
   "metadata": {},
   "outputs": [
    {
     "name": "stdout",
     "output_type": "stream",
     "text": [
      "['cherry', 'apple', 'kiwi']\n"
     ]
    }
   ],
   "source": [
    "# Function to clean text data: remove blanks & convert to lowercase\n",
    "def clean_data(data):\n",
    "    return [x.strip().lower() for x in data if x]\n",
    "# Example usage\n",
    "print(clean_data(['Cherry' , \"\", 'Apple', 'Kiwi', \"\", \"\"]))"
   ]
  },
  {
   "cell_type": "markdown",
   "id": "ceeac0bf-655a-4812-bd20-72356428d730",
   "metadata": {},
   "source": [
    "# Generate Dynamic Report Using **kwargs"
   ]
  },
  {
   "cell_type": "code",
   "execution_count": 10,
   "id": "90c64108-4a10-43b3-a4eb-5b11d9801d50",
   "metadata": {},
   "outputs": [
    {
     "name": "stdout",
     "output_type": "stream",
     "text": [
      "Report Summary\n",
      "Name:Leo\n",
      "City:Mumbai\n",
      "Course:BCA\n",
      "Tool:Power BI\n"
     ]
    }
   ],
   "source": [
    "# Function to print key-value pairs as a report\n",
    "def report_summary(**details):\n",
    "    print('Report Summary')\n",
    "    for k, v in details.items():\n",
    "        print(f'{k}:{v}')\n",
    "# Example usage\n",
    "report_summary(Name='Leo', City= 'Mumbai', Course= 'BCA', Tool='Power BI')      "
   ]
  },
  {
   "cell_type": "markdown",
   "id": "9eabc349-f3e9-4808-815c-e76709ad5ea6",
   "metadata": {},
   "source": [
    "# Lambda Function to Calculate Average of 3 Marks"
   ]
  },
  {
   "cell_type": "code",
   "execution_count": 15,
   "id": "0a7aa0c7-da9a-4e05-ba0a-8f6e5d508a57",
   "metadata": {},
   "outputs": [
    {
     "name": "stdout",
     "output_type": "stream",
     "text": [
      "Average: 85.33\n"
     ]
    }
   ],
   "source": [
    "# Lambda function to calculate average of 3 marks\n",
    "average_marks = lambda a,b,c: round((a + b + c) /3,2)\n",
    "# Example usage\n",
    "print('Average:', average_marks(78, 88, 90))"
   ]
  },
  {
   "cell_type": "code",
   "execution_count": null,
   "id": "d8df3d3b-b373-486b-a0b7-3c981b84fbb6",
   "metadata": {},
   "outputs": [],
   "source": []
  }
 ],
 "metadata": {
  "kernelspec": {
   "display_name": "Python 3 (ipykernel)",
   "language": "python",
   "name": "python3"
  },
  "language_info": {
   "codemirror_mode": {
    "name": "ipython",
    "version": 3
   },
   "file_extension": ".py",
   "mimetype": "text/x-python",
   "name": "python",
   "nbconvert_exporter": "python",
   "pygments_lexer": "ipython3",
   "version": "3.12.7"
  }
 },
 "nbformat": 4,
 "nbformat_minor": 5
}
