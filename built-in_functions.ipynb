{
 "cells": [
  {
   "cell_type": "markdown",
   "id": "1d948116-f7e9-4b6f-b178-94a322ec66ee",
   "metadata": {},
   "source": [
    "# built-in functions"
   ]
  },
  {
   "cell_type": "markdown",
   "id": "e9673056-ad18-4998-976f-c7385f4290c7",
   "metadata": {},
   "source": [
    "# split()"
   ]
  },
  {
   "cell_type": "code",
   "execution_count": 2,
   "id": "f5b29d59-133d-4117-9c44-84261377316e",
   "metadata": {},
   "outputs": [
    {
     "name": "stdout",
     "output_type": "stream",
     "text": [
      "['python', 'is', 'programming', 'language']\n"
     ]
    }
   ],
   "source": [
    "text = 'python is programming language'\n",
    "print(text.split()) #spilt sentence into words"
   ]
  },
  {
   "cell_type": "code",
   "execution_count": 3,
   "id": "7a793406-d316-4c34-86f4-1cfdc42e0187",
   "metadata": {},
   "outputs": [
    {
     "name": "stdout",
     "output_type": "stream",
     "text": [
      "['my', 'name', 'is', 'chetana']\n"
     ]
    }
   ],
   "source": [
    "name='my name is chetana'\n",
    "print(name.split())"
   ]
  },
  {
   "cell_type": "code",
   "execution_count": 6,
   "id": "e1c22118-3f00-426f-a106-f2457014800a",
   "metadata": {},
   "outputs": [
    {
     "name": "stdout",
     "output_type": "stream",
     "text": [
      "['apple', 'banana', 'mango']\n"
     ]
    }
   ],
   "source": [
    "data=\"apple,banana,mango\"\n",
    "print(data.split(',')) #split by comma"
   ]
  },
  {
   "cell_type": "code",
   "execution_count": 16,
   "id": "ccc5378b-ecf4-45e4-9cef-38344d93bca8",
   "metadata": {},
   "outputs": [
    {
     "name": "stdout",
     "output_type": "stream",
     "text": [
      "['1', '2', '3', '4', '5']\n"
     ]
    }
   ],
   "source": [
    "num=\"1,2,3,4,5\"\n",
    "print(num.split(','))"
   ]
  },
  {
   "cell_type": "code",
   "execution_count": 17,
   "id": "dd55f5c1-aaee-49e0-94b7-0656c3645b7d",
   "metadata": {},
   "outputs": [
    {
     "name": "stdout",
     "output_type": "stream",
     "text": [
      "Chetana Daund\n"
     ]
    }
   ],
   "source": [
    "name='Chetana Daund'\n",
    "first,last=name.split() #split first and last name\n",
    "print(first,last)"
   ]
  },
  {
   "cell_type": "code",
   "execution_count": 22,
   "id": "61762624-9abe-46d8-8403-6b770d79c621",
   "metadata": {},
   "outputs": [
    {
     "name": "stdout",
     "output_type": "stream",
     "text": [
      "Total words: 4\n"
     ]
    }
   ],
   "source": [
    "sentence = \"This is practice example\"\n",
    "words=sentence.split()\n",
    "print('Total words:',len(words)) #count words in sentence"
   ]
  },
  {
   "cell_type": "markdown",
   "id": "510543b6-7835-470c-ba05-8aa40797d225",
   "metadata": {},
   "source": [
    "# len()"
   ]
  },
  {
   "cell_type": "code",
   "execution_count": 23,
   "id": "db1b5dbb-c850-4e80-bdf2-fe6550a64256",
   "metadata": {},
   "outputs": [
    {
     "name": "stdout",
     "output_type": "stream",
     "text": [
      "7\n"
     ]
    }
   ],
   "source": [
    "name='Shivani'\n",
    "print(len(name)) #length of string"
   ]
  },
  {
   "cell_type": "code",
   "execution_count": 21,
   "id": "b312d192-8636-4372-ac6b-b5f52e98ae34",
   "metadata": {},
   "outputs": [
    {
     "name": "stdout",
     "output_type": "stream",
     "text": [
      "9\n"
     ]
    }
   ],
   "source": [
    "fruit='Pineapple'\n",
    "print(len(fruit))"
   ]
  },
  {
   "cell_type": "code",
   "execution_count": 25,
   "id": "fce08fe1-d34a-48db-a386-334973adafe5",
   "metadata": {},
   "outputs": [
    {
     "name": "stdout",
     "output_type": "stream",
     "text": [
      "4\n"
     ]
    }
   ],
   "source": [
    "students=['Bob','Joe','Leo','Nia']\n",
    "print(len(students)) #length of list"
   ]
  },
  {
   "cell_type": "code",
   "execution_count": 28,
   "id": "7bff3179-c000-4354-a4ca-0c0b0f14fdf2",
   "metadata": {},
   "outputs": [
    {
     "name": "stdout",
     "output_type": "stream",
     "text": [
      "characters: 11\n"
     ]
    }
   ],
   "source": [
    "line='Game is fun'\n",
    "print('characters:',len(line)) #count characters in sentence"
   ]
  },
  {
   "cell_type": "code",
   "execution_count": 30,
   "id": "ce08f697-4d8e-4fda-9c2e-6ca713ce6175",
   "metadata": {},
   "outputs": [
    {
     "name": "stdout",
     "output_type": "stream",
     "text": [
      "word: 4\n"
     ]
    }
   ],
   "source": [
    "words='Thank you for suggestion'.split()\n",
    "print('word:',len(words)) #word count"
   ]
  },
  {
   "cell_type": "code",
   "execution_count": 36,
   "id": "6d0b3272-de1d-40ae-b38b-f845094b1a81",
   "metadata": {},
   "outputs": [
    {
     "name": "stdout",
     "output_type": "stream",
     "text": [
      "words: 5\n"
     ]
    }
   ],
   "source": [
    "message='Welcome to my Home Friend'.split()\n",
    "print('words:',len(message))"
   ]
  },
  {
   "cell_type": "markdown",
   "id": "f849ee58-516f-4328-a802-4cbac2dd0e6b",
   "metadata": {},
   "source": [
    "# sum()"
   ]
  },
  {
   "cell_type": "code",
   "execution_count": 38,
   "id": "1be6d897-dac0-452d-a2f8-9ed78f1eebe8",
   "metadata": {},
   "outputs": [
    {
     "name": "stdout",
     "output_type": "stream",
     "text": [
      "Total: 68\n"
     ]
    }
   ],
   "source": [
    "num=[10,25,33]\n",
    "print('Total:',sum(num))"
   ]
  },
  {
   "cell_type": "code",
   "execution_count": 41,
   "id": "d990ed1d-bd8d-45a4-bee6-6e043fa5f028",
   "metadata": {},
   "outputs": [
    {
     "name": "stdout",
     "output_type": "stream",
     "text": [
      "Total: 220\n"
     ]
    }
   ],
   "source": [
    "marks=[85,47,88,]\n",
    "print('Total:',sum(marks)) #total marks"
   ]
  },
  {
   "cell_type": "code",
   "execution_count": 42,
   "id": "65a344c3-2420-4f2a-8dc7-ebb848174500",
   "metadata": {},
   "outputs": [
    {
     "name": "stdout",
     "output_type": "stream",
     "text": [
      "Total hours: 20\n"
     ]
    }
   ],
   "source": [
    "hours=[2,4,5,8,1]\n",
    "print('Total hours:',sum(hours)) #time spent on activities"
   ]
  },
  {
   "cell_type": "code",
   "execution_count": 43,
   "id": "8e05c513-6f4f-4528-a17f-80c33e4e2e38",
   "metadata": {},
   "outputs": [
    {
     "name": "stdout",
     "output_type": "stream",
     "text": [
      "Average: 70.0\n"
     ]
    }
   ],
   "source": [
    "scores=[60,70,80]\n",
    "print('Average:',sum(scores)/len(scores)) #Average score"
   ]
  },
  {
   "cell_type": "code",
   "execution_count": null,
   "id": "5d4fa68f-a40f-4a40-b735-285da479b38e",
   "metadata": {},
   "outputs": [],
   "source": []
  }
 ],
 "metadata": {
  "kernelspec": {
   "display_name": "Python 3 (ipykernel)",
   "language": "python",
   "name": "python3"
  },
  "language_info": {
   "codemirror_mode": {
    "name": "ipython",
    "version": 3
   },
   "file_extension": ".py",
   "mimetype": "text/x-python",
   "name": "python",
   "nbconvert_exporter": "python",
   "pygments_lexer": "ipython3",
   "version": "3.12.7"
  }
 },
 "nbformat": 4,
 "nbformat_minor": 5
}
