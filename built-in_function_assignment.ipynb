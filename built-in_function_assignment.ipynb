{
 "cells": [
  {
   "cell_type": "markdown",
   "id": "ce591e5f-2c9e-430e-9f51-0147fa5a904b",
   "metadata": {},
   "source": [
    "# Task Completion Tracker"
   ]
  },
  {
   "cell_type": "code",
   "execution_count": 15,
   "id": "5cf8f0cb-c4fa-47cb-a6a1-9acef2259569",
   "metadata": {},
   "outputs": [
    {
     "name": "stdout",
     "output_type": "stream",
     "text": [
      "Completed: Done\n",
      "Pending: Pending\n",
      "Progress: 60.0 %\n"
     ]
    }
   ],
   "source": [
    "task = ['Done', 'Pending', 'Done', 'Pending', 'Done']\n",
    "\n",
    "#Count each status\n",
    "Done = task.count('Done')\n",
    "Pending = task.count('Pending')\n",
    "\n",
    "# Calculate progress percentage\n",
    "print('Completed:', 'Done')\n",
    "print('Pending:', 'Pending')\n",
    "print('Progress:', round((Done/len(task)) *100, 2), '%')"
   ]
  },
  {
   "cell_type": "markdown",
   "id": "ec921249-246e-421b-be4c-6dda2fe87338",
   "metadata": {},
   "source": [
    "# Remove Duplicates and Count Unique Words"
   ]
  },
  {
   "cell_type": "code",
   "execution_count": 16,
   "id": "a91f7025-f39d-453f-834f-d569cf797c41",
   "metadata": {},
   "outputs": [
    {
     "name": "stdout",
     "output_type": "stream",
     "text": [
      "Unique words: {'clean', 'python', 'data', 'learn', 'code'}\n",
      "Total Unique Words: 5\n"
     ]
    }
   ],
   "source": [
    "sentence = \" data data python clean python code learn data \"\n",
    "words = sentence.split()\n",
    "unique_words = set(words)\n",
    "print('Unique words:', unique_words)\n",
    "print('Total Unique Words:', len(unique_words))"
   ]
  },
  {
   "cell_type": "markdown",
   "id": "42bdb94c-c701-4b25-91e8-5b27a0e7e927",
   "metadata": {},
   "source": [
    "# Clean and Filter Data"
   ]
  },
  {
   "cell_type": "code",
   "execution_count": 17,
   "id": "f4f14d1c-9d62-4d61-9e4c-01b06370750d",
   "metadata": {},
   "outputs": [
    {
     "name": "stdout",
     "output_type": "stream",
     "text": [
      "Filtered Gmail users: ['alice@gmail.com', 'carol@gmail.com']\n"
     ]
    }
   ],
   "source": [
    "emails = [\"  Alice@gmail.com \", \"bob@yahoo.com\", \"  carol@GMAIL.COM\"]\n",
    "clean_emails = [email.strip().lower() for email in emails]\n",
    "\n",
    "# Filter only Gmail users\n",
    "gmail_users = [email for email in clean_emails if email.endswith(\"@gmail.com\")]\n",
    "\n",
    "print(\"Filtered Gmail users:\", gmail_users)\n"
   ]
  },
  {
   "cell_type": "markdown",
   "id": "8ea94664-3548-4fd6-8439-ad114a495c22",
   "metadata": {},
   "source": [
    "# Check Valid Scores"
   ]
  },
  {
   "cell_type": "code",
   "execution_count": 23,
   "id": "03ba7e52-acb4-4250-9d52-0aba3bf9ef79",
   "metadata": {},
   "outputs": [
    {
     "name": "stdout",
     "output_type": "stream",
     "text": [
      "All marks valid: False\n"
     ]
    }
   ],
   "source": [
    "marks = [85, 70, 91, 88, 'N']\n",
    "#Check if all elements are valid integers\n",
    "valid = all(isinstance(mark,int) for mark in marks)\n",
    "print('All marks valid:', valid)"
   ]
  },
  {
   "cell_type": "markdown",
   "id": "82d547a7-1107-480f-a7d3-6d6cd9ddc57f",
   "metadata": {},
   "source": [
    "# Average from a List of Numbers"
   ]
  },
  {
   "cell_type": "code",
   "execution_count": 24,
   "id": "cd3bf89c-55e6-4049-9b08-3d70a6b8fd77",
   "metadata": {},
   "outputs": [
    {
     "name": "stdout",
     "output_type": "stream",
     "text": [
      "Average Sales: 2220.0\n"
     ]
    }
   ],
   "source": [
    "sales = [1400, 3500, 2400, 1800, 2000]\n",
    "average_sales = sum(sales) / len(sales)\n",
    "print('Average Sales:', round(average_sales, 2))"
   ]
  },
  {
   "cell_type": "markdown",
   "id": "f5500d14-9e77-4990-b8b0-7dff5f3ddc17",
   "metadata": {},
   "source": [
    "# Clean and Format User From Data "
   ]
  },
  {
   "cell_type": "code",
   "execution_count": 25,
   "id": "b3b66cc1-5df6-43de-8377-e58ff838706f",
   "metadata": {},
   "outputs": [
    {
     "name": "stdin",
     "output_type": "stream",
     "text": [
      "Enter your name: Sia\n",
      "Enter your email: Sia24@gamil.com\n"
     ]
    },
    {
     "name": "stdout",
     "output_type": "stream",
     "text": [
      "Hello Sia, we've sent a confirmation email to sia24@gamil.com\n"
     ]
    }
   ],
   "source": [
    "#User input\n",
    "name = input(\"Enter your name:\").strip()\n",
    "email = input(\"Enter your email:\").strip()\n",
    "#Apply formatting\n",
    "cleaned_name = name.capitalize()\n",
    "cleaned_email = email.lower()\n",
    "print(f\"Hello {cleaned_name}, we've sent a confirmation email to {cleaned_email}\")"
   ]
  },
  {
   "cell_type": "markdown",
   "id": "f04eb359-5026-4304-b076-6b55538a0cab",
   "metadata": {},
   "source": [
    "# Sales Data Analysis"
   ]
  },
  {
   "cell_type": "code",
   "execution_count": 26,
   "id": "d913d1cb-496e-4583-860a-46ce46c56b79",
   "metadata": {},
   "outputs": [
    {
     "name": "stdout",
     "output_type": "stream",
     "text": [
      "Highest Sale: 7200\n",
      "Lowest Sale: 3900\n"
     ]
    }
   ],
   "source": [
    "daily_sales = [4500, 5600, 3900, 7200, 4800, 5300, 6100]\n",
    "highest = max(daily_sales)\n",
    "lowest = min(daily_sales)\n",
    "print('Highest Sale:', highest)\n",
    "print('Lowest Sale:', lowest)"
   ]
  },
  {
   "cell_type": "markdown",
   "id": "97b27bcc-2594-4212-814d-00d7bf3bfe62",
   "metadata": {},
   "source": [
    "# Text Message Analyzer"
   ]
  },
  {
   "cell_type": "code",
   "execution_count": 27,
   "id": "61a740e8-a466-42ad-b474-651c9c314514",
   "metadata": {},
   "outputs": [
    {
     "name": "stdout",
     "output_type": "stream",
     "text": [
      "Tweet is valid\n"
     ]
    }
   ],
   "source": [
    "tweet = \"Excited to share my achivement on Mathetatical Equation Solving Quiz!\"\n",
    "if len(tweet) <= 280:\n",
    "    print('Tweet is valid')\n",
    "else:\n",
    "    print('Tweet too long')"
   ]
  },
  {
   "cell_type": "code",
   "execution_count": null,
   "id": "59ea617d-7107-4b96-a494-1672e63626c8",
   "metadata": {},
   "outputs": [],
   "source": []
  }
 ],
 "metadata": {
  "kernelspec": {
   "display_name": "Python 3 (ipykernel)",
   "language": "python",
   "name": "python3"
  },
  "language_info": {
   "codemirror_mode": {
    "name": "ipython",
    "version": 3
   },
   "file_extension": ".py",
   "mimetype": "text/x-python",
   "name": "python",
   "nbconvert_exporter": "python",
   "pygments_lexer": "ipython3",
   "version": "3.12.7"
  }
 },
 "nbformat": 4,
 "nbformat_minor": 5
}
